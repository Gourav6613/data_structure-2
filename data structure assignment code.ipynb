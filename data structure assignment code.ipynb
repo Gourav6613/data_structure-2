{
 "cells": [
  {
   "cell_type": "raw",
   "id": "cef19ff0-7a09-4507-af04-c33445fdb544",
   "metadata": {},
   "source": [
    "1. Write a code to reverse a string."
   ]
  },
  {
   "cell_type": "code",
   "execution_count": 2,
   "id": "5466ba5b-7747-4299-ae51-5f2ef89f6557",
   "metadata": {},
   "outputs": [
    {
     "data": {
      "text/plain": [
       "'varuoG'"
      ]
     },
     "execution_count": 2,
     "metadata": {},
     "output_type": "execute_result"
    }
   ],
   "source": [
    "# To reverse a string:\n",
    "a='Gourav'\n",
    "a[::-1]"
   ]
  },
  {
   "cell_type": "markdown",
   "id": "75431b2a-fe84-43fb-9ff6-2a6d8972db3c",
   "metadata": {},
   "source": [
    "2. Write a code to count the number of vowels in a string. "
   ]
  },
  {
   "cell_type": "code",
   "execution_count": 3,
   "id": "5ea6af9a-565b-413b-aae4-cf1f9febfb0b",
   "metadata": {},
   "outputs": [
    {
     "name": "stdin",
     "output_type": "stream",
     "text": [
      "enter gourav\n"
     ]
    }
   ],
   "source": [
    "u = input('enter')"
   ]
  },
  {
   "cell_type": "code",
   "execution_count": 4,
   "id": "5f8078f9-902b-4167-986c-489bf27143bc",
   "metadata": {},
   "outputs": [
    {
     "name": "stdout",
     "output_type": "stream",
     "text": [
      "3\n"
     ]
    }
   ],
   "source": [
    "vowels = ('a', 'e', 'i', 'o', 'u', 'U', 'O', 'I', 'E', 'A')\n",
    "count = 0\n",
    "for i in u:\n",
    "    if i in vowels:\n",
    "        count += 1\n",
    "print(count)"
   ]
  },
  {
   "cell_type": "raw",
   "id": "e748f1c9-0997-4ee2-849b-3a13f4476e8b",
   "metadata": {},
   "source": [
    "3. Write a code to check if a given string is a palindrome or not."
   ]
  },
  {
   "cell_type": "code",
   "execution_count": 4,
   "id": "d1eca040-cc01-4d0b-86ee-681a13c73945",
   "metadata": {},
   "outputs": [
    {
     "name": "stdin",
     "output_type": "stream",
     "text": [
      "insert your word tenet\n"
     ]
    }
   ],
   "source": [
    "#to check if a word is palindrome or not:\n",
    "a=input('insert your word')"
   ]
  },
  {
   "cell_type": "code",
   "execution_count": 5,
   "id": "6bbe3cb6-9a9f-4ebc-abf3-f3d75e96fb69",
   "metadata": {},
   "outputs": [],
   "source": [
    "b=a"
   ]
  },
  {
   "cell_type": "code",
   "execution_count": 6,
   "id": "7707ecc0-b047-401f-b95d-c7d91e08f3d2",
   "metadata": {},
   "outputs": [
    {
     "name": "stdout",
     "output_type": "stream",
     "text": [
      "palindrome\n"
     ]
    }
   ],
   "source": [
    "if a==b[::-1]:\n",
    "    print('palindrome')\n",
    "else:\n",
    "    print('not palindrome')"
   ]
  },
  {
   "cell_type": "code",
   "execution_count": 7,
   "id": "3895cca3-f589-4b56-9a99-f08c71f04c62",
   "metadata": {},
   "outputs": [
    {
     "name": "stdin",
     "output_type": "stream",
     "text": [
      "insert your word karma\n"
     ]
    }
   ],
   "source": [
    "#if it wasn't palindrome word\n",
    "a=input('insert your word')"
   ]
  },
  {
   "cell_type": "code",
   "execution_count": 8,
   "id": "096367bb-00f3-4e19-9fe3-4ec8ca1ef37d",
   "metadata": {},
   "outputs": [],
   "source": [
    "b=a"
   ]
  },
  {
   "cell_type": "code",
   "execution_count": 9,
   "id": "14b6b5b1-75d0-458c-ad84-89c1b9f2ffc3",
   "metadata": {},
   "outputs": [
    {
     "name": "stdout",
     "output_type": "stream",
     "text": [
      "not palindrome\n"
     ]
    }
   ],
   "source": [
    "if a==b[::-1]:\n",
    "    print('palindrome')\n",
    "else:\n",
    "    print('not palindrome')"
   ]
  },
  {
   "cell_type": "raw",
   "id": "7b2dc74d-94c5-4e00-b3b6-9d9e96e8ff1e",
   "metadata": {},
   "source": [
    "4. Write a code to check if two given strings are anagrams of each other"
   ]
  },
  {
   "cell_type": "code",
   "execution_count": 2,
   "id": "8d271f1d-5447-4ea2-9d80-a6ce47a98b7d",
   "metadata": {},
   "outputs": [
    {
     "name": "stdin",
     "output_type": "stream",
     "text": [
      "enter 1st string arun\n",
      "enter 2nd string  uran\n"
     ]
    }
   ],
   "source": [
    "#to check if two strings are anagrams or not:\n",
    "a=input('enter 1st string')\n",
    "b=input('enter 2nd string ')"
   ]
  },
  {
   "cell_type": "code",
   "execution_count": 7,
   "id": "16bad3f7-2d37-4ad2-be3a-96dcc143ef41",
   "metadata": {},
   "outputs": [
    {
     "name": "stdout",
     "output_type": "stream",
     "text": [
      "anagram\n"
     ]
    }
   ],
   "source": [
    "c=[i.lower() for i in a]\n",
    "d=[u.lower() for u in b]\n",
    "if sorted(c)==sorted(d):\n",
    "    print('anagram')\n",
    "else:\n",
    "    print('not anagram')"
   ]
  },
  {
   "cell_type": "code",
   "execution_count": 5,
   "id": "2c303ea3-ecb0-402d-a9a1-bfce83b6c330",
   "metadata": {},
   "outputs": [
    {
     "name": "stdin",
     "output_type": "stream",
     "text": [
      "enter 1st string Arun\n",
      "enter 2nd string  Uran\n"
     ]
    }
   ],
   "source": [
    "#as python is case sensetive if we enter upper case\n",
    "a=input('enter 1st string')\n",
    "b=input('enter 2nd string ')"
   ]
  },
  {
   "cell_type": "code",
   "execution_count": 6,
   "id": "cb0dab90-1e9f-41b4-80d5-13609e82829d",
   "metadata": {},
   "outputs": [
    {
     "name": "stdout",
     "output_type": "stream",
     "text": [
      "anagram\n"
     ]
    }
   ],
   "source": [
    "c=[i.lower() for i in a]\n",
    "d=[u.lower() for u in b]\n",
    "if sorted(c)==sorted(d):\n",
    "    print('anagram')\n",
    "else:\n",
    "    print('not anagram')"
   ]
  },
  {
   "cell_type": "raw",
   "id": "db297278-e4bf-4634-a50d-d62442fc5c44",
   "metadata": {},
   "source": [
    "5. Write a code to find all occurrences of a given substring within another string."
   ]
  },
  {
   "cell_type": "code",
   "execution_count": 17,
   "id": "19c53395-a9e8-42ce-b5c6-d63d241b98f7",
   "metadata": {},
   "outputs": [],
   "source": [
    "main_string='this is a simple test and is very easy'\n",
    "sub_string='is'"
   ]
  },
  {
   "cell_type": "code",
   "execution_count": 16,
   "id": "937e7287-a1f1-4929-8d1a-aa1b53cfc06e",
   "metadata": {},
   "outputs": [
    {
     "data": {
      "text/plain": [
       "3"
      ]
     },
     "execution_count": 16,
     "metadata": {},
     "output_type": "execute_result"
    }
   ],
   "source": [
    "a.count(sub_string)"
   ]
  },
  {
   "cell_type": "raw",
   "id": "2f6d9a37-7b14-4b0b-bb15-62924c0d29a5",
   "metadata": {},
   "source": [
    "6. Write a code to perform basic string compression using the counts of repeated characters. "
   ]
  },
  {
   "cell_type": "code",
   "execution_count": 3,
   "id": "ceb79c4c-977e-4ac1-8475-2680ae791cc1",
   "metadata": {},
   "outputs": [
    {
     "name": "stdout",
     "output_type": "stream",
     "text": [
      "a2b2c5a3\n"
     ]
    }
   ],
   "source": [
    "def compress_string(s):\n",
    "    compressed = []\n",
    "    count = 1\n",
    "    for i in range(len(s)):\n",
    "        if i + 1 < len(s) and s[i] == s[i + 1]:\n",
    "            count += 1\n",
    "        else:\n",
    "            compressed.append(s[i] + str(count))\n",
    "            count = 1 \n",
    "    compressed_string = ''.join(compressed)\n",
    "    return compressed_string if len(compressed_string) < len(s) else s\n",
    "\n",
    "# Example usage\n",
    "string = \"aabbcccccaaa\"\n",
    "compressed = compress_string(string)\n",
    "print(compressed)\n"
   ]
  },
  {
   "cell_type": "raw",
   "id": "128546a1-ce6a-4d8b-8f7e-0011dd6ed622",
   "metadata": {},
   "source": [
    "7. Write a code to determine if a string has all unique characters. "
   ]
  },
  {
   "cell_type": "code",
   "execution_count": 2,
   "id": "fa76bf8e-ba97-446a-979f-1fc4543b4bd9",
   "metadata": {},
   "outputs": [
    {
     "name": "stdout",
     "output_type": "stream",
     "text": [
      "True\n",
      "False\n"
     ]
    }
   ],
   "source": [
    "def has_all_unique_characters(s):\n",
    "    char_set = set()\n",
    "    for char in s:\n",
    "        if char in char_set:\n",
    "            return False\n",
    "        char_set.add(char)\n",
    "    return True\n",
    "\n",
    "# Example usage\n",
    "string = \"abcdefg\"\n",
    "print(has_all_unique_characters(string))\n",
    "\n",
    "string = \"hello\"\n",
    "print(has_all_unique_characters(string))\n"
   ]
  },
  {
   "cell_type": "raw",
   "id": "027afa08-9638-4826-a446-98678eeee25e",
   "metadata": {},
   "source": [
    "8. Write a code to convert a given string to uppercase or lowercase. "
   ]
  },
  {
   "cell_type": "code",
   "execution_count": 7,
   "id": "3c937024-20da-4546-81ae-56a6bc9086c3",
   "metadata": {},
   "outputs": [
    {
     "data": {
      "text/plain": [
       "'GOURAV'"
      ]
     },
     "execution_count": 7,
     "metadata": {},
     "output_type": "execute_result"
    }
   ],
   "source": [
    "#to convert string to upper or lower case:\n",
    "string='GoUrav'\n",
    "#to uppercase\n",
    "string.upper()"
   ]
  },
  {
   "cell_type": "code",
   "execution_count": 8,
   "id": "dcf6b292-0739-4b08-9068-2aaaf8493582",
   "metadata": {},
   "outputs": [
    {
     "data": {
      "text/plain": [
       "'gourav'"
      ]
     },
     "execution_count": 8,
     "metadata": {},
     "output_type": "execute_result"
    }
   ],
   "source": [
    "#to lowercase\n",
    "string.lower()"
   ]
  },
  {
   "cell_type": "raw",
   "id": "0a85cc7e-b004-4048-b7ac-8f0f768068a5",
   "metadata": {},
   "source": [
    "9. Write a code to count the number of words in a string. "
   ]
  },
  {
   "cell_type": "code",
   "execution_count": 1,
   "id": "91f72b58-ae90-4cb2-91bb-5046bc325e00",
   "metadata": {},
   "outputs": [
    {
     "name": "stdout",
     "output_type": "stream",
     "text": [
      "6\n"
     ]
    }
   ],
   "source": [
    "#to count the words in a string:\n",
    "string=\"i have purchased a pwskill course\"\n",
    "string_list=string.split(' ')\n",
    "count=0\n",
    "for words in string_list:\n",
    "    count+=1\n",
    "print(count)"
   ]
  },
  {
   "cell_type": "raw",
   "id": "e271e69d-493a-4001-b9a6-387ca76a92ab",
   "metadata": {},
   "source": [
    "10. Write a code to concatenate two strings without using the + operator. "
   ]
  },
  {
   "cell_type": "code",
   "execution_count": 1,
   "id": "4bb19689-d9ed-4039-9381-3e79c3ad1a9b",
   "metadata": {},
   "outputs": [
    {
     "name": "stdout",
     "output_type": "stream",
     "text": [
      "gourav loves to play football.\n"
     ]
    }
   ],
   "source": [
    "#to concatenate two string without + operator\n",
    "string_1='gourav loves'\n",
    "string_2='to play football.'\n",
    "print(string_1, string_2)"
   ]
  },
  {
   "cell_type": "raw",
   "id": "0106d989-c18c-4740-bb3b-1c94047e920d",
   "metadata": {},
   "source": [
    "11. Write a code to remove all occurrences of a specific element from a list."
   ]
  },
  {
   "cell_type": "code",
   "execution_count": 2,
   "id": "9c98f7fb-5481-41d8-a36f-a17dcf077f13",
   "metadata": {},
   "outputs": [],
   "source": [
    "#to remove all occurences of a specific element from a list\n",
    "shoping_list=['milk','almond','sattu','oats','sattu',]\n",
    "shoping_list.remove('sattu')"
   ]
  },
  {
   "cell_type": "code",
   "execution_count": 3,
   "id": "b1b921f7-8b59-493f-a569-6d99ba716f31",
   "metadata": {},
   "outputs": [
    {
     "data": {
      "text/plain": [
       "['milk', 'almond', 'oats', 'sattu']"
      ]
     },
     "execution_count": 3,
     "metadata": {},
     "output_type": "execute_result"
    }
   ],
   "source": [
    "#now if we check the list\n",
    "shoping_list"
   ]
  },
  {
   "cell_type": "raw",
   "id": "3f86bc1f-dd58-4b8b-bce9-5d612a2cb1aa",
   "metadata": {},
   "source": [
    "12. Implement a code to find the second largest number in a given list of integers."
   ]
  },
  {
   "cell_type": "code",
   "execution_count": 2,
   "id": "0ed262e7-ed11-4e38-833b-536a7f1eb5ae",
   "metadata": {},
   "outputs": [
    {
     "name": "stdout",
     "output_type": "stream",
     "text": [
      "87\n"
     ]
    }
   ],
   "source": [
    "#to find the second largest number in a given list:\n",
    "numbers=[29,45,32,46,87,98,65]\n",
    "for number in numbers:\n",
    "    if number==max(numbers):\n",
    "        numbers.remove(max(numbers))\n",
    "        print(max(numbers))"
   ]
  },
  {
   "cell_type": "raw",
   "id": "1df972f0-23d6-4be2-96df-822827f5a7e8",
   "metadata": {},
   "source": [
    " 13. Create a code to count the occurrences of each element in a list and return a dictionary with elements as keys and their counts as values. "
   ]
  },
  {
   "cell_type": "code",
   "execution_count": 3,
   "id": "68dbb874-738c-4e91-9aff-659df58c23f0",
   "metadata": {},
   "outputs": [
    {
     "name": "stdout",
     "output_type": "stream",
     "text": [
      "{'20k': 3, '50k': 2, '15k': 2, '30k': 2}\n"
     ]
    }
   ],
   "source": [
    "#dictionary with elements as key and their counts as value\n",
    "salary=['20k','50k','15k','20k','15k','30k','50k','20k','30k']\n",
    "salary_count={}\n",
    "for sal in salary:\n",
    "    if sal in salary_count:\n",
    "        salary_count[sal]+=1\n",
    "    else:\n",
    "        salary_count[sal]=1\n",
    "print(salary_count)        "
   ]
  },
  {
   "cell_type": "raw",
   "id": "b6e45e3f-2db0-453d-b3c5-7a5fc71268d4",
   "metadata": {},
   "source": [
    "14. Write a code to reverse a list in-place without using any built-in reverse functions. "
   ]
  },
  {
   "cell_type": "code",
   "execution_count": 4,
   "id": "f1d747d5-cf5e-4aed-9977-206747e63b84",
   "metadata": {},
   "outputs": [
    {
     "data": {
      "text/plain": [
       "[9, 8, 7, 6, 5, 4, 3, 2, 1]"
      ]
     },
     "execution_count": 4,
     "metadata": {},
     "output_type": "execute_result"
    }
   ],
   "source": [
    "#to reverse a list withour reverse funtion\n",
    "#list sclicing is used\n",
    "d=[1,2,3,4,5,6,7,8,9]\n",
    "d[::-1]"
   ]
  },
  {
   "cell_type": "raw",
   "id": "0dc2f83a-7acc-4143-8e02-27b771b3623e",
   "metadata": {},
   "source": [
    "15. Implement a code to find and remove duplicates from a list while preserving the original order of elements."
   ]
  },
  {
   "cell_type": "code",
   "execution_count": 1,
   "id": "bb541d98-7ba4-430e-8cb0-5fee11880b96",
   "metadata": {},
   "outputs": [
    {
     "name": "stdout",
     "output_type": "stream",
     "text": [
      "[1, 2, 3, 4, 5, 6, 7]\n"
     ]
    }
   ],
   "source": [
    "#to find and remove duplicates from a list while preserving the original order of elements:\n",
    "list_=[1,2,3,2,3,4,3,4,5,4,5,6,5,6,7]\n",
    "set_=set(list_)\n",
    "unique_list=list(set_)\n",
    "print(unique_list)"
   ]
  },
  {
   "cell_type": "raw",
   "id": "df6b8c6b-b5df-4920-b913-dbe731f899aa",
   "metadata": {},
   "source": [
    "16. Create a code to check if a given list is sorted (either in ascending or descending order) or not."
   ]
  },
  {
   "cell_type": "code",
   "execution_count": 2,
   "id": "f160334c-57dd-4b3e-9a1c-09337d4d7f7a",
   "metadata": {},
   "outputs": [
    {
     "name": "stdout",
     "output_type": "stream",
     "text": [
      "unsorted\n"
     ]
    }
   ],
   "source": [
    "#to check if a given list is sorted (either in ascending or descending order) or not\n",
    "number=[1,4,6,4,7,8,6,0,14,23,56]\n",
    "if number==sorted(number):\n",
    "    print('sorted')\n",
    "else:\n",
    "    print('unsorted')"
   ]
  },
  {
   "cell_type": "raw",
   "id": "e15068aa-003f-4473-91cd-a6e123af8e3d",
   "metadata": {},
   "source": [
    "17. Write a code to merge two sorted lists into a single sorted list. "
   ]
  },
  {
   "cell_type": "code",
   "execution_count": 3,
   "id": "c08d39c5-dd7f-4a43-9e9f-5ae9a70306ca",
   "metadata": {},
   "outputs": [
    {
     "name": "stdout",
     "output_type": "stream",
     "text": [
      "[1, 2, 2, 2, 2, 3, 3, 3, 3, 4, 4, 4, 4, 5, 5, 5, 6, 6, 6, 6, 6, 6, 7, 7, 7, 7, 8, 8]\n"
     ]
    }
   ],
   "source": [
    "#to merge two sorted lists into a single sorted list:\n",
    "list_1=[5,3,2,6,4,7,8,5,3,6,7,4,3,2]\n",
    "list_2=[8,6,7,6,5,4,3,2,6,4,6,7,2,1]\n",
    "a=sorted(list_1)\n",
    "b=sorted(list_2)\n",
    "print(sorted(a+b))"
   ]
  },
  {
   "cell_type": "raw",
   "id": "2286efc1-0fd1-405e-bb58-0d83d2f5fc5d",
   "metadata": {},
   "source": [
    "18. Implement a code to find the intersection of two given lists. "
   ]
  },
  {
   "cell_type": "code",
   "execution_count": 7,
   "id": "aa271d7f-8823-4ac4-bca3-465095ae3a74",
   "metadata": {},
   "outputs": [
    {
     "name": "stdout",
     "output_type": "stream",
     "text": [
      "[4, 5]\n"
     ]
    }
   ],
   "source": [
    "#to find the intersection of two given lists:\n",
    "list1 = [1, 2, 3, 4, 5]\n",
    "list2 = [4, 5, 6, 7, 8]\n",
    "intersection = []\n",
    "for element in list1:\n",
    "    if element in list2:\n",
    "        intersection.append(element)\n",
    "print(intersection)        "
   ]
  },
  {
   "cell_type": "raw",
   "id": "5e4c9d6f-5ca8-4489-b010-899827689de8",
   "metadata": {},
   "source": [
    "19. Create a code to find the union of two lists without duplicates."
   ]
  },
  {
   "cell_type": "code",
   "execution_count": 5,
   "id": "5c11ed20-efad-41fd-9d99-65f1d284502a",
   "metadata": {},
   "outputs": [
    {
     "name": "stdout",
     "output_type": "stream",
     "text": [
      "[1, 2, 3, 4]\n"
     ]
    }
   ],
   "source": [
    "#to find the union of two lists without duplicates:\n",
    "list_1=[1,2,3,2,3,4]\n",
    "list_2=[4,3,2,3,2,1]\n",
    "union=list(set(list_1+list_2))\n",
    "print(union)"
   ]
  },
  {
   "cell_type": "raw",
   "id": "ddc90826-e00d-4a92-9e14-24fb61f7a905",
   "metadata": {},
   "source": [
    "20. Write a code to shuffle a given list randomly without using any built-in shuffle functions. common to both input tuples. "
   ]
  },
  {
   "cell_type": "code",
   "execution_count": 9,
   "id": "6cbb1d59-f252-43dc-be7b-7b40ddaee6b6",
   "metadata": {},
   "outputs": [
    {
     "name": "stdout",
     "output_type": "stream",
     "text": [
      "Original list: [1, 2, 3, 4, 5, 6, 7, 8, 9, 10]\n",
      "Shuffled list: [8, 10, 7, 1, 4, 5, 9, 6, 2, 3]\n"
     ]
    }
   ],
   "source": [
    "import random\n",
    "def custom_shuffle(input_list):\n",
    "    n = len(input_list)\n",
    "    for i in range(n):\n",
    "        rand_index = random.randint(i, n - 1)\n",
    "        input_list[i], input_list[rand_index] = input_list[rand_index], input_list[i]\n",
    "    return input_list\n",
    "input_list = [1, 2, 3, 4, 5, 6, 7, 8, 9, 10]\n",
    "shuffled_list = custom_shuffle(input_list.copy())\n",
    "print(\"Original list:\", input_list)\n",
    "print(\"Shuffled list:\", shuffled_list)"
   ]
  },
  {
   "cell_type": "raw",
   "id": "b6eb9372-088c-4fc7-b20a-5de6c6708bce",
   "metadata": {},
   "source": [
    "21. Write a code that takes two tuples as input and returns a new tuple containing elements that are intersection of these two sets. "
   ]
  },
  {
   "cell_type": "code",
   "execution_count": 1,
   "id": "ea92bb61-add5-4507-a69b-a39dae46f217",
   "metadata": {},
   "outputs": [
    {
     "name": "stdin",
     "output_type": "stream",
     "text": [
      "enter abcd\n",
      "enter cdef\n"
     ]
    },
    {
     "name": "stdout",
     "output_type": "stream",
     "text": [
      "('c', 'd')\n"
     ]
    }
   ],
   "source": [
    "#code that takes two tuples as input and returns a new tuple containing elements that are intersection of these two sets:\n",
    "tuple1=tuple(str(input('enter')))\n",
    "tuple2=tuple(str(input('enter')))\n",
    "set1=set(tuple1)\n",
    "set2=set(tuple2)\n",
    "intersection=tuple(set1&set2)\n",
    "print(intersection)"
   ]
  },
  {
   "cell_type": "raw",
   "id": "45a5802b-b657-40cd-bce6-cb1b11b612af",
   "metadata": {},
   "source": [
    "22. Create a code that prompts the user to enter two sets of integers separated by commas. Then, print the intersection of two sets."
   ]
  },
  {
   "cell_type": "code",
   "execution_count": 2,
   "id": "b26d8625-a559-4534-a13b-e9753be7713d",
   "metadata": {},
   "outputs": [
    {
     "name": "stdin",
     "output_type": "stream",
     "text": [
      "enter 1st set 1234\n",
      "enter 2nd set  3456\n"
     ]
    },
    {
     "name": "stdout",
     "output_type": "stream",
     "text": [
      "{3, 4}\n"
     ]
    }
   ],
   "source": [
    "#code that prompts the user to enter two sets of integers separated by commas. Then, print the intersection of two sets:\n",
    "set_1_input=input('enter 1st set')\n",
    "set1=set(int(n)for n in set_1_input)\n",
    "set_2_input=input('enter 2nd set ')\n",
    "set2=set(int(o)for o in set_2_input)\n",
    "intersection=set1&set2\n",
    "print(intersection)"
   ]
  },
  {
   "cell_type": "raw",
   "id": "00556342-99d1-4259-95d5-4cc8cf63cad4",
   "metadata": {},
   "source": [
    "23. Write a code to concatenate two tuples. The function should take two tuples as input and return a new tuple containing elements from both input tuples."
   ]
  },
  {
   "cell_type": "code",
   "execution_count": 3,
   "id": "92e73a76-19c7-44e5-857f-4254ad742e45",
   "metadata": {},
   "outputs": [
    {
     "name": "stdin",
     "output_type": "stream",
     "text": [
      "enter the tuple gourav\n",
      "enter the tuple yaksha\n"
     ]
    },
    {
     "name": "stdout",
     "output_type": "stream",
     "text": [
      "('gourav', 'yaksha')\n"
     ]
    }
   ],
   "source": [
    "#code to concatenate two tuples. The function should take two tuples as input and return a new tuple containing elements from both input \n",
    "#tuples\n",
    "tuple1=input('enter the tuple')\n",
    "tuple_1=tuple(str(v) for v in tuple1.split(','))\n",
    "tuple2=input('enter the tuple')\n",
    "tuple_2=tuple(str(x) for x in tuple2.split(','))\n",
    "concatenation=tuple_1+tuple_2\n",
    "print(concatenation)\n"
   ]
  },
  {
   "cell_type": "raw",
   "id": "bbec43e2-7a0a-4264-b982-b384492145cb",
   "metadata": {},
   "source": [
    "24.Develop a code that prompts the user to input two sets of strings. Then, print the elements that are present in the first set but not in \n",
    "the second set."
   ]
  },
  {
   "cell_type": "code",
   "execution_count": 4,
   "id": "9056ad56-d93b-4d42-9a1e-0b501a550c7a",
   "metadata": {},
   "outputs": [
    {
     "name": "stdin",
     "output_type": "stream",
     "text": [
      "set loki,thor\n",
      "set loki peter tony\n"
     ]
    },
    {
     "name": "stdout",
     "output_type": "stream",
     "text": [
      "{'loki', 'thor'}\n"
     ]
    }
   ],
   "source": [
    "#code that prompts the user to input two sets of strings. Then, print the elements that are present in the first set but not in:\n",
    "the second set\n",
    "set1=input('set')\n",
    "set_1=set(str(m)for m in set1.split(','))\n",
    "set2=input('set')\n",
    "set_2=set(str(n)for n in set2.split(','))\n",
    "result=set_1-set_2\n",
    "print(result)"
   ]
  },
  {
   "cell_type": "raw",
   "id": "ffaa68f1-612c-4963-969b-d3c48805ec51",
   "metadata": {},
   "source": [
    "25. Create a code that takes a tuple and two integers as input. The function should return a new tuple containing elements from the original tuple within the specified range of indices. "
   ]
  },
  {
   "cell_type": "code",
   "execution_count": null,
   "id": "e9ea075a-783d-4099-ba7b-b4691101d8a2",
   "metadata": {},
   "outputs": [],
   "source": [
    "def slice_tuple(input_tuple, start_index, end_index):\n",
    "    return input_tuple[start_index:end_index]\n",
    "input_tuple = (10, 20, 30, 40, 50, 60, 70)\n",
    "start_index = 2\n",
    "end_index = 5\n",
    "sliced_tuple = slice_tuple(input_tuple, start_index, end_index)\n",
    "print(\"Original tuple:\", input_tuple)\n",
    "print(\"Sliced tuple:\", sliced_tuple)"
   ]
  },
  {
   "cell_type": "raw",
   "id": "785121d7-a004-46c1-9862-155a5866d3ba",
   "metadata": {},
   "source": [
    "26. Write a code that prompts the user to input two sets of characters. Then, print the union of these two sets. "
   ]
  },
  {
   "cell_type": "code",
   "execution_count": 5,
   "id": "1d0c7ffd-de60-477b-98bf-9dc8eeaf5640",
   "metadata": {},
   "outputs": [
    {
     "name": "stdin",
     "output_type": "stream",
     "text": [
      "enter 1st set krishna,arjuna,bheema,aswathama\n",
      "enter 2nd set aswathama,bheema,yudisthira,bhisma\n"
     ]
    },
    {
     "name": "stdout",
     "output_type": "stream",
     "text": [
      "{'bhisma', 'yudisthira', 'arjuna', 'krishna', 'aswathama', 'bheema'}\n"
     ]
    }
   ],
   "source": [
    "set1=input('enter 1st set')\n",
    "set_1=set(str(p)for p in set1.split(','))\n",
    "set2=input('enter 2nd set')\n",
    "set_2=set(str(u)for u in set2.split(','))\n",
    "union=set_1|set_2\n",
    "print(union)"
   ]
  },
  {
   "cell_type": "raw",
   "id": "e99bc533-fec3-4337-8c3f-31d0d1718570",
   "metadata": {},
   "source": [
    "27. Develop a code that takes a tuple of integers as input. The function should return the maximum and minimum values from the tuple using tuple unpacking. "
   ]
  },
  {
   "cell_type": "code",
   "execution_count": 6,
   "id": "9c15b4b4-26ac-48da-a87d-c7545ee12d4c",
   "metadata": {},
   "outputs": [
    {
     "name": "stdin",
     "output_type": "stream",
     "text": [
      "enter tuple 23,45,67,21,11,-5\n"
     ]
    },
    {
     "name": "stdout",
     "output_type": "stream",
     "text": [
      "largest no. in the tuple is 67\n",
      "smallest no. in the tuple is -5\n"
     ]
    }
   ],
   "source": [
    "input_tuple=input('enter tuple')\n",
    "int_tuple=tuple(int(j)for j in input_tuple.split(','))\n",
    "max_value=max(int_tuple)\n",
    "min_value=min(int_tuple)\n",
    "max_val,min_val=max_value,min_value\n",
    "print('largest no. in the tuple is',max_val)\n",
    "print('smallest no. in the tuple is',min_val)"
   ]
  },
  {
   "cell_type": "raw",
   "id": "716d4550-9489-49cb-bf8e-74b579352179",
   "metadata": {},
   "source": [
    "28. Create a code that defines two sets of integers. Then, print the union, intersection, and difference of these two sets. "
   ]
  },
  {
   "cell_type": "code",
   "execution_count": 3,
   "id": "2afa4132-b37e-486c-b2d3-ac3a789c94c1",
   "metadata": {},
   "outputs": [
    {
     "name": "stdin",
     "output_type": "stream",
     "text": [
      "enter 1st set 12345\n",
      "enter 2nd set 45678\n"
     ]
    },
    {
     "name": "stdout",
     "output_type": "stream",
     "text": [
      "union of two set are {1, 2, 3, 4, 5, 6, 7, 8}\n",
      "intersection of two sets are {4, 5}\n",
      "difference of two sets are {1, 2, 3}\n"
     ]
    }
   ],
   "source": [
    "#code that defines two sets of integers. Then, print the union, intersection, and difference of these two sets:\n",
    "set1=input('enter 1st set')\n",
    "set_1=set(int(x)for x in set1)\n",
    "set2=input('enter 2nd set')\n",
    "set_2=set(int(y)for y in set2)\n",
    "union=set_1|set_2\n",
    "intersection=set_1&set_2\n",
    "difference=set_1-set_2\n",
    "print('union of two set are',union)\n",
    "print('intersection of two sets are',intersection)\n",
    "print('difference of two sets are',difference)"
   ]
  },
  {
   "cell_type": "raw",
   "id": "39877628-da76-454a-8791-efc9ee207949",
   "metadata": {},
   "source": [
    "29. Write a code that takes a tuple and an element as input. The function should return the count of occurrences of the given element in the tuple."
   ]
  },
  {
   "cell_type": "code",
   "execution_count": 4,
   "id": "52c3e052-415c-426a-b03c-49af46314923",
   "metadata": {},
   "outputs": [
    {
     "name": "stdin",
     "output_type": "stream",
     "text": [
      "enter the tuple 1,2,3,2,4,5,2,6,7,2\n",
      "enter an element 2\n"
     ]
    },
    {
     "name": "stdout",
     "output_type": "stream",
     "text": [
      "4\n"
     ]
    }
   ],
   "source": [
    "#code that takes a tuple and an element as input and The function should return the count of occurrences of the given element in the tuple.\n",
    "tuple_input=input('enter the tuple')\n",
    "tuple_main=tuple(ele for ele in tuple_input.split(','))\n",
    "element=input('enter an element')\n",
    "count=0\n",
    "for el in tuple_main:\n",
    "    if el==element:\n",
    "        count+=1\n",
    "print(count)        "
   ]
  },
  {
   "cell_type": "raw",
   "id": "d05566c3-2fca-45d7-a59b-fec27933f77e",
   "metadata": {},
   "source": [
    "30. Develop a code that prompts the user to input two sets of strings. Then, print the symmetric  difference of these two sets. "
   ]
  },
  {
   "cell_type": "code",
   "execution_count": 6,
   "id": "a120eb8d-5d04-4979-a937-0e970d08c355",
   "metadata": {},
   "outputs": [
    {
     "name": "stdin",
     "output_type": "stream",
     "text": [
      "enter first set 1,2,3,4,5\n",
      "enter second set 4,5,6,7\n"
     ]
    },
    {
     "name": "stdout",
     "output_type": "stream",
     "text": [
      "{'2', '7', '6', '3', '1'}\n"
     ]
    }
   ],
   "source": [
    "#code that prompts the user to input two sets of strings. Then, print the symmetric  difference of these two sets:\n",
    "set1=input('enter first set')\n",
    "set_1=set(a for a in set1.split(','))\n",
    "set2=input('enter second set')\n",
    "set_2=set(b for b in set2.split(','))\n",
    "print(set_1^set_2)"
   ]
  },
  {
   "cell_type": "raw",
   "id": "6a13aa1f-cd56-4960-8709-850e913ba236",
   "metadata": {},
   "source": [
    "31. Write a code that takes a list of words as input and returns a dictionary where the keys are unique words and the values are the frequencies of those words in the input list. "
   ]
  },
  {
   "cell_type": "code",
   "execution_count": 8,
   "id": "d3079d72-fb3c-4985-a1c9-e33ba8e0d847",
   "metadata": {},
   "outputs": [
    {
     "name": "stdin",
     "output_type": "stream",
     "text": [
      "enter a list apple,orange,pineapple,apple,banana,orange,banana\n"
     ]
    },
    {
     "name": "stdout",
     "output_type": "stream",
     "text": [
      "{'apple': 2, 'orange': 2, 'pineapple': 1, 'banana': 2}\n"
     ]
    }
   ],
   "source": [
    "list1=input('enter a list')\n",
    "list_1=list(str(a) for a in list1.split(','))\n",
    "dict_={}\n",
    "for i in list_1:\n",
    "    if i in dict_:\n",
    "        dict_[i]+=1\n",
    "    else:\n",
    "        dict_[i]=1\n",
    "print(dict_)"
   ]
  },
  {
   "cell_type": "raw",
   "id": "40bb0f21-cbf4-4c09-ade4-21980eef868f",
   "metadata": {},
   "source": [
    "32. Write a code that takes two dictionaries as input and merges them into a single dictionary. If there are common keys, the values should be added together. "
   ]
  },
  {
   "cell_type": "code",
   "execution_count": 4,
   "id": "2a213255-ea36-43b5-bc1f-6f8f37714bc2",
   "metadata": {},
   "outputs": [
    {
     "name": "stdout",
     "output_type": "stream",
     "text": [
      "Enter the first dictionary:\n"
     ]
    },
    {
     "name": "stdin",
     "output_type": "stream",
     "text": [
      "Enter key (or 'done' to finish):  apple\n",
      "Enter value:  5\n",
      "Enter key (or 'done' to finish):  orange\n",
      "Enter value:  6\n",
      "Enter key (or 'done' to finish):  nespati\n",
      "Enter value:  3\n",
      "Enter key (or 'done' to finish):  mango\n",
      "Enter value:  2\n",
      "Enter key (or 'done' to finish):  done\n"
     ]
    },
    {
     "name": "stdout",
     "output_type": "stream",
     "text": [
      "Enter the second dictionary:\n"
     ]
    },
    {
     "name": "stdin",
     "output_type": "stream",
     "text": [
      "Enter key (or 'done' to finish):  laddo\n",
      "Enter value:  4\n",
      "Enter key (or 'done' to finish):  peda\n",
      "Enter value:  6\n",
      "Enter key (or 'done' to finish):  apple\n",
      "Enter value:  2\n",
      "Enter key (or 'done' to finish):  done\n"
     ]
    },
    {
     "name": "stdout",
     "output_type": "stream",
     "text": [
      "Merged dictionary: {'apple': 7, 'orange': 6, 'nespati': 3, 'mango': 2, 'laddo': 4, 'peda': 6}\n"
     ]
    }
   ],
   "source": [
    "#code that takes two dictionaries as input and merges them into a single dictionary and, If there are common keys, the values should be added together\n",
    "def merge_and_add_dicts(dict1, dict2):\n",
    "    merged_dict = dict1.copy()\n",
    "    for key, value in dict2.items():\n",
    "        if key in merged_dict:\n",
    "            merged_dict[key] += value  \n",
    "        else:\n",
    "            merged_dict[key] = value\n",
    "    return merged_dict\n",
    "def input_dict(prompt):\n",
    "    print(prompt)\n",
    "    input_dict = {}\n",
    "    while True:\n",
    "        key = input(\"Enter key (or 'done' to finish): \")\n",
    "        if key == 'done':\n",
    "            break\n",
    "        value = int(input(\"Enter value: \"))\n",
    "        input_dict[key] = value\n",
    "    return input_dict\n",
    "dict1 = input_dict(\"Enter the first dictionary:\")\n",
    "dict2 = input_dict(\"Enter the second dictionary:\")\n",
    "result = merge_and_add_dicts(dict1, dict2)\n",
    "\n",
    "print(\"Merged dictionary:\", result)"
   ]
  },
  {
   "cell_type": "raw",
   "id": "caea9132-9492-4b36-af6f-eda584d79803",
   "metadata": {},
   "source": [
    "33. Write a code to access a value in a nested dictionary. The function should take the dictionary and a list of keys as input, and return the corresponding value. If any of the keys do not exist in the dictionary, the function should return None. "
   ]
  },
  {
   "cell_type": "code",
   "execution_count": 5,
   "id": "ff8900ab-cb0f-4e75-b884-d3d1a2ea09be",
   "metadata": {},
   "outputs": [
    {
     "name": "stdout",
     "output_type": "stream",
     "text": [
      "42\n",
      "99\n",
      "None\n",
      "{'c': 42}\n"
     ]
    }
   ],
   "source": [
    "#code to access a value in a nested dictionary with The function that should take the dictionary and a list of keys as input, and return the corresponding value and, If any of the keys do not exist in the dictionary, the function should return None\n",
    "def get_nested_value(nested_dict, key_list):\n",
    "    current_value = nested_dict\n",
    "    for key in key_list:\n",
    "        if isinstance(current_value, dict) and key in current_value:\n",
    "            current_value = current_value[key]\n",
    "        else:\n",
    "            return None\n",
    "    return current_value\n",
    "nested_dict = {\n",
    "    'a': {\n",
    "        'b': {\n",
    "            'c': 42\n",
    "        }\n",
    "    },\n",
    "    'x': {\n",
    "        'y': {\n",
    "            'z': 99\n",
    "        }\n",
    "    }\n",
    "}\n",
    "\n",
    "key_list1 = ['a', 'b', 'c']\n",
    "key_list2 = ['x', 'y', 'z']\n",
    "key_list3 = ['a', 'b', 'd']\n",
    "key_list4 = ['a', 'b']\n",
    "\n",
    "print(get_nested_value(nested_dict, key_list1))\n",
    "print(get_nested_value(nested_dict, key_list2))\n",
    "print(get_nested_value(nested_dict, key_list3))\n",
    "print(get_nested_value(nested_dict, key_list4)) "
   ]
  },
  {
   "cell_type": "raw",
   "id": "4d7d712a-e30b-40d3-baa5-35c9b55c8040",
   "metadata": {},
   "source": [
    "34. Write a code that takes a dictionary as input and returns a sorted version of it based on the values. You can choose whether to sort in ascending or descending order"
   ]
  },
  {
   "cell_type": "code",
   "execution_count": 6,
   "id": "5412d80b-e6bc-4b9f-b0a2-68d671baf22f",
   "metadata": {},
   "outputs": [
    {
     "name": "stdout",
     "output_type": "stream",
     "text": [
      "Ascending: {'banana': 1, 'cherry': 2, 'apple': 3}\n",
      "Descending: {'apple': 3, 'cherry': 2, 'banana': 1}\n"
     ]
    }
   ],
   "source": [
    "# code that takes a dictionary as input and returns a sorted version of it based on the values we can choose whether to sort in ascending or descending order\n",
    "def sort_dict_by_values(input_dict, ascending=True):\n",
    "    sorted_items = sorted(input_dict.items(), key=lambda item: item[1], reverse=not ascending)\n",
    "    sorted_dict = dict(sorted_items)\n",
    "    return sorted_dict\n",
    "input_dict = {'apple': 3, 'banana': 1, 'cherry': 2}\n",
    "sorted_dict_ascending = sort_dict_by_values(input_dict, ascending=True)\n",
    "print(\"Ascending:\", sorted_dict_ascending)\n",
    "sorted_dict_descending = sort_dict_by_values(input_dict, ascending=False)\n",
    "print(\"Descending:\", sorted_dict_descending)"
   ]
  },
  {
   "cell_type": "raw",
   "id": "19043f39-c006-4a84-aac3-44a146989d39",
   "metadata": {},
   "source": [
    "35. Write a code that inverts a dictionary, swapping keys and values. Ensure that the inverted dictionary correctly handles cases where multiple keys have the same value by storing the keys as a list in the inverted dictionary."
   ]
  },
  {
   "cell_type": "code",
   "execution_count": 8,
   "id": "2f2959ba-ed8f-4eae-93ec-cc68851df624",
   "metadata": {},
   "outputs": [
    {
     "name": "stdout",
     "output_type": "stream",
     "text": [
      "{1: ['apple', 'cherry'], 2: ['banana', 'elderberry'], 3: ['date']}\n"
     ]
    }
   ],
   "source": [
    "#code that inverts a dictionary, swapping keys and values Ensuring that the inverted dictionary correctly handles cases where multiple keys have the same value by storing the keys as a list in the inverted dictionary.\n",
    "def invert_dict(input_dict):\n",
    "    inverted_dict = {}\n",
    "    for key, value in input_dict.items():\n",
    "        if value in inverted_dict:\n",
    "            inverted_dict[value].append(key)\n",
    "        else:\n",
    "            inverted_dict[value] = [key]\n",
    "    \n",
    "    return inverted_dict\n",
    "input_dict = {\n",
    "    'apple': 1,\n",
    "    'banana': 2,\n",
    "    'cherry': 1,\n",
    "    'date': 3,\n",
    "    'elderberry': 2\n",
    "}\n",
    "\n",
    "inverted_dict = invert_dict(input_dict)\n",
    "print(inverted_dict)"
   ]
  }
 ],
 "metadata": {
  "kernelspec": {
   "display_name": "Python 3 (ipykernel)",
   "language": "python",
   "name": "python3"
  },
  "language_info": {
   "codemirror_mode": {
    "name": "ipython",
    "version": 3
   },
   "file_extension": ".py",
   "mimetype": "text/x-python",
   "name": "python",
   "nbconvert_exporter": "python",
   "pygments_lexer": "ipython3",
   "version": "3.10.8"
  }
 },
 "nbformat": 4,
 "nbformat_minor": 5
}
